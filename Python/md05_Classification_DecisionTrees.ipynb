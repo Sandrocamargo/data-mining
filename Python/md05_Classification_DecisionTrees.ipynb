{
  "cells": [
    {
      "cell_type": "markdown",
      "metadata": {
        "id": "4tgMtxMh1I5U"
      },
      "source": [
        "# Classification using Decision Trees\n",
        "### Author: Prof. Sandro Camargo <github.com/sandrocamargo>\n",
        "### Data Mining Course <https://moodle.unipampa.edu.br/moodle/course/view.php?id=5213>\n",
        "#### This script uses the basic concepts of decision trees.\n",
        "##### In this script, we used the iris dataset https://archive.ics.uci.edu/dataset/53/iris\n",
        "\n",
        "To open this notebook in your Google Colab environment, [click here](https://colab.research.google.com/github/Sandrocamargo/data-mining/blob/main/Python/md05_Classification_DecisionTrees.ipynb)."
      ]
    },
    {
      "cell_type": "code",
      "execution_count": null,
      "metadata": {
        "id": "i4k27LjYoZ7H"
      },
      "outputs": [],
      "source": [
        "# Download and unzip the dataset\n",
        "!wget -c https://archive.ics.uci.edu/static/public/53/iris.zip\n",
        "!unzip -u iris.zip"
      ]
    },
    {
      "cell_type": "code",
      "execution_count": null,
      "metadata": {
        "id": "9HCGupUW4zGl"
      },
      "outputs": [],
      "source": [
        "# import and inspect the dataset\n",
        "import pandas as pd\n",
        "\n",
        "data = pd.read_csv('iris.data', header=None)\n",
        "data.columns = ['Sepal Length','Sepal Width','Petal Length','Petal Width','Species']\n",
        "data.head() # Show first 5 samples"
      ]
    },
    {
      "cell_type": "code",
      "source": [
        "# Getting to know your data\",\n",
        "import seaborn as sns\n",
        "import matplotlib.pyplot as plt\n",
        "\n",
        "sns.pairplot(data, hue='Species', markers=[\"o\", \"s\", \"D\"])\n",
        "plt.savefig(\"iris-pairplot.pdf\")"
      ],
      "metadata": {
        "id": "IEkzj7ecovAi"
      },
      "execution_count": null,
      "outputs": []
    },
    {
      "cell_type": "code",
      "execution_count": null,
      "metadata": {
        "id": "z_JVscN2MC4u"
      },
      "outputs": [],
      "source": [
        "# split dataset into train and test sets\n",
        "from sklearn import tree, model_selection\n",
        "import random\n",
        "\n",
        "# Store the inputs in the matrix X and the outputs in the array y\n",
        "X = data.iloc[:,0:4]\n",
        "print(X.describe())\n",
        "\n",
        "y = data.iloc[:,4]\n",
        "print(\"\\n\",y.value_counts(),\"\\n\")\n",
        "\n",
        "target_names = list(set(y))\n",
        "\n",
        "train_x, test_x, train_y, test_y = model_selection.train_test_split(X, y, train_size=0.80, stratify=y, random_state=3)\n",
        "\n",
        "# Verifying dataset dimensions\n",
        "print('The training dataset (inputs) dimensions are: ', train_x.shape)\n",
        "print('The training dataset (outputs) dimensions are: ', train_y.shape)\n",
        "print('The testing dataset (inputs) dimensions are: ', test_x.shape)\n",
        "print('The testing dataset (outputs) dimensions are: ', test_y.shape)"
      ]
    },
    {
      "cell_type": "code",
      "execution_count": null,
      "metadata": {
        "id": "w3DG7v1bMEb1"
      },
      "outputs": [],
      "source": [
        "# TRaining the model\n",
        "clf = tree.DecisionTreeClassifier(min_samples_leaf=2, random_state=20)\n",
        "clf = clf.fit(train_x, train_y)\n",
        "\n",
        "# Plotting the model\n",
        "import graphviz\n",
        "dot_data = tree.export_graphviz(clf, out_file=None,\n",
        "                      feature_names=data.columns[0:4],\n",
        "                      class_names=target_names,\n",
        "                      filled=True, rounded=True,\n",
        "                      special_characters=True)\n",
        "graph = graphviz.Source(dot_data)\n",
        "graph.render(\"iris-color\")\n",
        "graph"
      ]
    },
    {
      "cell_type": "code",
      "source": [
        "from matplotlib.patches import Rectangle\n",
        "from pandas import Series\n",
        "\n",
        "# Showing the performance on training set\n",
        "tmpdata = train_x\n",
        "tmpdata['Species']=train_y\n",
        "\n",
        "# Plotting the training set\n",
        "sns.scatterplot(data=tmpdata, x='Petal Length', y='Petal Width', hue='Species', style='Species')\n",
        "xlim = plt.gca().get_xlim()\n",
        "ylim = plt.gca().get_ylim()\n",
        "\n",
        "# Plotting the decision surface\n",
        "plt.axvspan(0,2.45,0,5, color='green', alpha=0.2)\n",
        "plt.axvspan(2.45,7,0,(1.55-ylim[0])/(ylim[1]-ylim[0]), color='blue', alpha=0.1)\n",
        "plt.axvspan(2.45,7,(1.55-ylim[0])/(ylim[1]-ylim[0]),1, color='yellow', alpha=0.2)\n",
        "plt.title(\"Iris - Training Data\")\n",
        "plt.savefig(\"iris-training-decisionsurface.pdf\")"
      ],
      "metadata": {
        "id": "fjvKlO_SpPT7"
      },
      "execution_count": null,
      "outputs": []
    },
    {
      "cell_type": "code",
      "execution_count": null,
      "metadata": {
        "id": "TSKGxaAETqYM"
      },
      "outputs": [],
      "source": [
        "# Showing the performance on training set\n",
        "from sklearn.metrics import classification_report, confusion_matrix\n",
        "\n",
        "predicted = clf.predict(train_x.iloc[:,0:4])\n",
        "\n",
        "print(\"Confusion Matrix:\\n\",confusion_matrix(train_y, predicted))\n",
        "\n",
        "print(classification_report(train_y, predicted, target_names=target_names))"
      ]
    },
    {
      "cell_type": "code",
      "source": [
        "# Showing the performance on test set\n",
        "tmpdata = test_x\n",
        "tmpdata['Species']=test_y\n",
        "\n",
        "# Plotting the test set\n",
        "sns.scatterplot(data=tmpdata, x='Petal Length', y='Petal Width', hue='Species', style='Species')\n",
        "xlim = plt.gca().get_xlim()\n",
        "ylim = plt.gca().get_ylim()\n",
        "\n",
        "# Plotting the decision surface\n",
        "plt.axvspan(0,2.45,0,5, color='green', alpha=0.2)\n",
        "plt.axvspan(2.45,7,0,(1.55-ylim[0])/(ylim[1]-ylim[0]), color='blue', alpha=0.1)\n",
        "plt.axvspan(2.45,7,(1.55-ylim[0])/(ylim[1]-ylim[0]),1, color='yellow', alpha=0.2)\n",
        "plt.title(\"Iris - Test Data\")\n",
        "plt.savefig(\"iris-test-decisionsurface.pdf\")"
      ],
      "metadata": {
        "id": "MSPx82axJlXt"
      },
      "execution_count": null,
      "outputs": []
    },
    {
      "cell_type": "code",
      "source": [
        "# Showing the performance on test set\n",
        "from sklearn.metrics import classification_report\n",
        "\n",
        "predicted = clf.predict(test_x.iloc[:,0:4])\n",
        "\n",
        "print(\"Confusion Matrix:\\n\",confusion_matrix(test_y, predicted))\n",
        "\n",
        "print(classification_report(test_y, predicted, target_names=target_names))"
      ],
      "metadata": {
        "id": "h7-dqEP7KkqR"
      },
      "execution_count": null,
      "outputs": []
    }
  ],
  "metadata": {
    "colab": {
      "provenance": []
    },
    "kernelspec": {
      "display_name": "Python 3",
      "name": "python3"
    },
    "language_info": {
      "name": "python"
    }
  },
  "nbformat": 4,
  "nbformat_minor": 0
}