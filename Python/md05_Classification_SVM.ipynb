{
  "nbformat": 4,
  "nbformat_minor": 0,
  "metadata": {
    "colab": {
      "provenance": []
    },
    "kernelspec": {
      "name": "python3",
      "display_name": "Python 3"
    },
    "language_info": {
      "name": "python"
    }
  },
  "cells": [
    {
      "cell_type": "markdown",
      "source": [
        "# Classification using SVM\n",
        "### Author: Prof. Sandro Camargo <github.com/sandrocamargo>\n",
        "### Data Mining Course <https://moodle.unipampa.edu.br/moodle/course/view.php?id=5213>\n",
        "#### This script uses the basic concepts of KNN.\n",
        "In this script, we used the iris dataset https://archive.ics.uci.edu/dataset/53/iris\n",
        "\n",
        "Algorithm documentation: https://scikit-learn.org/stable/modules/svm.html\n",
        "\n",
        "To open this notebook in your Google Colab environment, [click here](https://colab.research.google.com/github/Sandrocamargo/data-mining/blob/main/Python/md05_Classification_SVM.ipynb)."
      ],
      "metadata": {
        "id": "E0ozGkNrGg_H"
      }
    },
    {
      "cell_type": "code",
      "execution_count": null,
      "metadata": {
        "id": "RCxVQ-lhGE15"
      },
      "outputs": [],
      "source": [
        "import numpy as np\n",
        "import matplotlib.pyplot as plt\n",
        "import seaborn as sns\n",
        "from sklearn import datasets\n",
        "from sklearn.model_selection import train_test_split\n",
        "from sklearn.svm import SVC\n",
        "from sklearn.metrics import accuracy_score, classification_report, confusion_matrix\n",
        "from sklearn.decomposition import PCA"
      ]
    },
    {
      "cell_type": "code",
      "source": [
        "# Load the Iris dataset\n",
        "iris = datasets.load_iris()\n",
        "X = iris.data\n",
        "y = iris.target\n",
        "target_names = iris.target_names"
      ],
      "metadata": {
        "id": "cIW2aitIGTiz"
      },
      "execution_count": null,
      "outputs": []
    },
    {
      "cell_type": "code",
      "source": [
        "# Reduce dimensions for visualization (PCA: 2 components)\n",
        "pca = PCA(n_components=2)\n",
        "X_pca = pca.fit_transform(X)\n",
        "\n",
        "# Split data (use PCA data for visualization)\n",
        "X_train, X_test, y_train, y_test = train_test_split(X_pca, y, test_size=0.3, random_state=42, stratify=y)"
      ],
      "metadata": {
        "id": "ut44JZKUGVil"
      },
      "execution_count": null,
      "outputs": []
    },
    {
      "cell_type": "code",
      "source": [
        "# Create and train the SVM model\n",
        "svm_model = SVC(kernel='linear', C=1.0)\n",
        "svm_model.fit(X_train, y_train)\n",
        "y_pred = svm_model.predict(X_test)\n",
        "\n",
        "# Evaluation\n",
        "print(\"Accuracy:\", accuracy_score(y_test, y_pred))\n",
        "print(\"\\nClassification Report:\\n\", classification_report(y_test, y_pred, target_names=target_names))\n",
        "print(\"\\nConfusion Matrix:\\n\", confusion_matrix(y_test, y_pred))"
      ],
      "metadata": {
        "id": "13EmCJF9GYcW"
      },
      "execution_count": null,
      "outputs": []
    },
    {
      "cell_type": "code",
      "source": [
        "# Plotting decision regions\n",
        "def plot_decision_boundaries(X, y, model, title):\n",
        "    x_min, x_max = X[:, 0].min() - .5, X[:, 0].max() + .5\n",
        "    y_min, y_max = X[:, 1].min() - .5, X[:, 1].max() + .5\n",
        "    xx, yy = np.meshgrid(np.linspace(x_min, x_max, 300),\n",
        "                         np.linspace(y_min, y_max, 300))\n",
        "    Z = model.predict(np.c_[xx.ravel(), yy.ravel()])\n",
        "    Z = Z.reshape(xx.shape)\n",
        "\n",
        "    plt.figure(figsize=(8, 6))\n",
        "    plt.contourf(xx, yy, Z, alpha=0.3, cmap='coolwarm')\n",
        "    scatter = plt.scatter(X[:, 0], X[:, 1], c=y, cmap='coolwarm', edgecolor='k')\n",
        "\n",
        "    # Ajustar os rótulos da legenda com base nas classes únicas presentes\n",
        "    classes_presentes = np.unique(y)\n",
        "    legend_labels = [iris.target_names[i] for i in classes_presentes]\n",
        "    handles = [plt.Line2D([0], [0], marker='o', color='w', label=label,\n",
        "                          markerfacecolor=plt.cm.coolwarm(i / 2), markersize=8, markeredgecolor='k')\n",
        "               for i, label in zip(classes_presentes, legend_labels)]\n",
        "    plt.legend(handles=handles, title=\"Classes\")\n",
        "\n",
        "    plt.xlabel(f\"PC 1 ({pca.explained_variance_ratio_[0]*100:.2f}%)\")\n",
        "    plt.ylabel(f\"PC 2 ({pca.explained_variance_ratio_[1]*100:.2f}%)\")\n",
        "    plt.title(title)\n",
        "    plt.grid(True)\n",
        "    plt.show()\n",
        "\n",
        "\n",
        "# Plot decision boundaries using PCA features\n",
        "plot_decision_boundaries(X_test, y_test, svm_model, \"SVM Decision Boundaries (Test Set, PCA Projection)\")\n",
        "\n",
        "# Confusion Matrix Heatmap\n",
        "plt.figure(figsize=(6, 5))\n",
        "sns.heatmap(confusion_matrix(y_test, y_pred), annot=True, fmt='d',\n",
        "            xticklabels=target_names, yticklabels=target_names, cmap=\"Blues\")\n",
        "plt.xlabel(\"Predicted\")\n",
        "plt.ylabel(\"True\")\n",
        "plt.title(\"Confusion Matrix\")\n",
        "plt.tight_layout()\n",
        "plt.show()"
      ],
      "metadata": {
        "id": "F0zQU0idGa7r"
      },
      "execution_count": null,
      "outputs": []
    },
    {
      "cell_type": "code",
      "source": [
        "# Create and train the SVM model\n",
        "svm_model = SVC(kernel='rbf')\n",
        "svm_model.fit(X_train, y_train)\n",
        "y_pred = svm_model.predict(X_test)\n",
        "\n",
        "# Evaluation\n",
        "print(\"Accuracy:\", accuracy_score(y_test, y_pred))\n",
        "print(\"\\nClassification Report:\\n\", classification_report(y_test, y_pred, target_names=target_names))\n",
        "print(\"\\nConfusion Matrix:\\n\", confusion_matrix(y_test, y_pred))"
      ],
      "metadata": {
        "id": "mmDBhJbgJtko"
      },
      "execution_count": null,
      "outputs": []
    },
    {
      "cell_type": "code",
      "source": [
        "# Function to plot decision boundaries\n",
        "def plot_decision_boundaries(X, y, model, title):\n",
        "    x_min, x_max = X[:, 0].min() - 0.5, X[:, 0].max() + 0.5\n",
        "    y_min, y_max = X[:, 1].min() - 0.5, X[:, 1].max() + 0.5\n",
        "    xx, yy = np.meshgrid(np.linspace(x_min, x_max, 300),\n",
        "                         np.linspace(y_min, y_max, 300))\n",
        "\n",
        "    Z = model.predict(np.c_[xx.ravel(), yy.ravel()])\n",
        "    Z = Z.reshape(xx.shape)\n",
        "\n",
        "    plt.figure(figsize=(8, 6))\n",
        "    plt.contourf(xx, yy, Z, alpha=0.3, cmap='coolwarm')\n",
        "    scatter = plt.scatter(X[:, 0], X[:, 1], c=y, cmap='coolwarm', edgecolor='k')\n",
        "\n",
        "    # Legend\n",
        "    classes = np.unique(y)\n",
        "    handles = [plt.Line2D([0], [0], marker='o', label=iris.target_names[i],\n",
        "                          color='w', markerfacecolor=plt.cm.coolwarm(i / 2),\n",
        "                          markeredgecolor='k', markersize=8)\n",
        "               for i in classes]\n",
        "    plt.legend(handles=handles, title=\"Classes\")\n",
        "\n",
        "    # Axis labels with explained variance\n",
        "    plt.xlabel(f\"PC1 ({pca.explained_variance_ratio_[0]*100:.2f}%)\")\n",
        "    plt.ylabel(f\"PC2 ({pca.explained_variance_ratio_[1]*100:.2f}%)\")\n",
        "    plt.title(title)\n",
        "    plt.grid(True)\n",
        "    plt.show()\n",
        "\n",
        "# Plot the decision boundaries\n",
        "plot_decision_boundaries(X_test, y_test, svm_model, \"SVM Decision Boundaries (Test Set, PCA)\")"
      ],
      "metadata": {
        "id": "EgTBdNz0J3wM"
      },
      "execution_count": null,
      "outputs": []
    }
  ]
}