{
  "nbformat": 4,
  "nbformat_minor": 0,
  "metadata": {
    "colab": {
      "provenance": []
    },
    "kernelspec": {
      "name": "python3",
      "display_name": "Python 3"
    },
    "language_info": {
      "name": "python"
    }
  },
  "cells": [
    {
      "cell_type": "markdown",
      "source": [
        "# Clustering using k-means\n",
        "\n",
        "Author: Prof. Sandro Camargo <github.com/sandrocamargo>\n",
        "\n",
        "Data Mining Course https://moodle.unipampa.edu.br/moodle/course/view.php?id=5213\n",
        "\n",
        "This script uses the basic concepts of clustering.\n",
        "\n",
        "In this script, we used the iris dataset https://archive.ics.uci.edu/dataset/53/iris\n",
        "\n",
        "To open this script in your google colab environment, [click here](https://colab.research.google.com/github/Sandrocamargo/data-mining/blob/main/Python/md07_clustering.ipynb)."
      ],
      "metadata": {
        "id": "3KkcYzZ7x2vP"
      }
    },
    {
      "cell_type": "code",
      "execution_count": null,
      "metadata": {
        "id": "EYrH_uNq7-A9"
      },
      "outputs": [],
      "source": [
        "%matplotlib inline\n",
        "import numpy as np\n",
        "import pandas as pd\n",
        "import matplotlib.pyplot as plt\n",
        "from scipy import stats\n",
        "\n",
        "# use seaborn plotting defaults\n",
        "import seaborn as sns; sns.set()\n",
        "\n",
        "# import kmeans\n",
        "from sklearn.cluster import KMeans\n",
        "\n",
        "from sklearn import datasets\n",
        "\n",
        "iris = datasets.load_iris()\n",
        "\n",
        "data = pd.DataFrame(data= np.c_[iris['data'], iris['target']],columns= iris['feature_names'] + ['target'])\n",
        "\n",
        "data.describe()"
      ]
    },
    {
      "cell_type": "code",
      "source": [
        "# ScatterPlot\n",
        "# To display a two-dimensional graph, 2 out of the 4 available attributes were selected.\n",
        "plt.scatter(data.iloc[:,0], data.iloc[:,1])\n",
        "plt.xlabel(\"Sepal Length (cm)\")\n",
        "plt.ylabel(\"Sepal Width (cm)\")\n",
        "plt.show()"
      ],
      "metadata": {
        "id": "afTf-yQz8LRi"
      },
      "execution_count": null,
      "outputs": []
    },
    {
      "cell_type": "code",
      "source": [
        "est = KMeans(3)  # 3 clusters\n",
        "est.fit(data)\n",
        "y_kmeans = est.predict(data)\n",
        "plt.scatter(data.iloc[:,0], data.iloc[:,1], c=y_kmeans, s=20, cmap='rainbow')\n",
        "plt.xlabel(\"Sepal Length (cm)\")\n",
        "plt.ylabel(\"Sepal Width (cm)\")\n",
        "plt.scatter(est.cluster_centers_[:, 0], est.cluster_centers_[:, 1], s = 50, c = 'black', label = 'Centroids')"
      ],
      "metadata": {
        "id": "7zXW10ll8WrR"
      },
      "execution_count": null,
      "outputs": []
    },
    {
      "cell_type": "code",
      "source": [
        "# ScatterPlot\n",
        "# Selecting 2 different attributes\n",
        "plt.scatter(data.iloc[:,2], data.iloc[:,3])\n",
        "plt.xlabel(\"Petal Length (cm)\")\n",
        "plt.ylabel(\"Petal Width (cm)\")\n",
        "plt.show()"
      ],
      "metadata": {
        "id": "EfgVJs1d-yBP"
      },
      "execution_count": null,
      "outputs": []
    },
    {
      "cell_type": "code",
      "source": [
        "# Selecting 2 different attributes\n",
        "plt.scatter(data.iloc[:, 2], data.iloc[:, 3], c=y_kmeans, s=20, cmap='rainbow')\n",
        "plt.xlabel(\"Petal Length (cm)\")\n",
        "plt.ylabel(\"Petal Width (cm)\")\n",
        "plt.scatter(est.cluster_centers_[:, 2], est.cluster_centers_[:, 3], s = 50, c = 'black', label = 'Centroids')\n",
        "plt.show()"
      ],
      "metadata": {
        "id": "es2say7wDh45"
      },
      "execution_count": null,
      "outputs": []
    },
    {
      "cell_type": "markdown",
      "source": [
        "# Elbow Method\n",
        "\n",
        "The elbow method is a graphical method for finding the optimal K value in a k-means clustering algorithm. The elbow graph shows the within-cluster-sum-of-square (WCSS) values on the y-axis corresponding to the different values of K (on the x-axis). The optimal K value is the point at which the graph forms an elbow."
      ],
      "metadata": {
        "id": "-nywgmrd25E3"
      }
    },
    {
      "cell_type": "code",
      "source": [
        "distorsions = []\n",
        "for k in range(2, 20):\n",
        "    kmeans = KMeans(n_clusters=k)\n",
        "    kmeans.fit(data)\n",
        "    distorsions.append(kmeans.inertia_)\n",
        "\n",
        "fig = plt.figure(figsize=(10, 5))\n",
        "plt.plot(range(2, 20), distorsions)\n",
        "plt.xlabel('Number of clusters')\n",
        "plt.ylabel('WCSS')\n",
        "plt.grid(True)\n",
        "plt.title('Elbow curve')"
      ],
      "metadata": {
        "id": "TOY-NhCX2i2u",
        "collapsed": true
      },
      "execution_count": null,
      "outputs": []
    }
  ]
}