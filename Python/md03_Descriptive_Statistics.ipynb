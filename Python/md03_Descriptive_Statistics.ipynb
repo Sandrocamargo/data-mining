{
  "nbformat": 4,
  "nbformat_minor": 0,
  "metadata": {
    "colab": {
      "provenance": []
    },
    "kernelspec": {
      "name": "python3",
      "display_name": "Python 3"
    },
    "language_info": {
      "name": "python"
    }
  },
  "cells": [
    {
      "cell_type": "markdown",
      "source": [
        "# Descriptive Statistics\n",
        "### Author: Prof. Sandro Camargo <github.com/sandrocamargo>\n",
        "### Data Mining Course <https://moodle.unipampa.edu.br/moodle/course/view.php?id=5213>\n",
        "#### This script uses the basic concepts of descriptive statistics.\n",
        "##### In this script, we used the iris dataset https://archive.ics.uci.edu/dataset/53/iris\n"
      ],
      "metadata": {
        "id": "4tgMtxMh1I5U"
      }
    },
    {
      "cell_type": "code",
      "execution_count": null,
      "metadata": {
        "id": "i4k27LjYoZ7H"
      },
      "outputs": [],
      "source": [
        "# Download and unzip the dataset\n",
        "!wget https://archive.ics.uci.edu/static/public/53/iris.zip\n",
        "!unzip iris.zip"
      ]
    },
    {
      "cell_type": "code",
      "source": [
        "# import and inspect the dataset\n",
        "import pandas as pd\n",
        "\n",
        "data = pd.read_csv('iris.data', header=None)\n",
        "data.columns = ['Sepal Length','Sepal Width','Petal Length','Petal Width','Species']\n",
        "data.head() # Show first 5 samples"
      ],
      "metadata": {
        "id": "9HCGupUW4zGl"
      },
      "execution_count": null,
      "outputs": []
    },
    {
      "cell_type": "markdown",
      "source": [
        "# Computing Central Tendency Measures"
      ],
      "metadata": {
        "id": "wW-DX-JF6THy"
      }
    },
    {
      "cell_type": "code",
      "source": [
        "# Mean\n",
        "print(\"Sepal Length Mean:\",data['Sepal Length'].mean(),\"\\n\") # For a single attribute\n",
        "print(data.iloc[:,0:4].mean()) # For all lines \":\", for attributes from 0 to 3\n",
        "print(data.iloc[:,[0,2]].mean()) # For all lines \":\", for attributes 0 and 2\n",
        "\n",
        "# Median\n",
        "print(\"\\nSepal Length Median:\",data['Sepal Length'].median())\n",
        "print(\"Sepal Width Median:\",data['Sepal Width'].median())\n",
        "\n",
        "# Mode\n",
        "print(\"\\nSepal Length Mode:\",data['Sepal Length'].mode())\n",
        "print(\"Sepal Width Mode:\",data['Sepal Width'].mode())"
      ],
      "metadata": {
        "id": "fnUazh3m5tfV"
      },
      "execution_count": null,
      "outputs": []
    },
    {
      "cell_type": "markdown",
      "source": [
        "# Computing Dispersion Measurements"
      ],
      "metadata": {
        "id": "7z0BbxVT7MTU"
      }
    },
    {
      "cell_type": "code",
      "source": [
        "# Minimum\n",
        "print(\"Sepal Length Minimum Value:\", data['Sepal Length'].max())\n",
        "\n",
        "# Maximum\n",
        "print(\"Sepal Length Maximum Value:\", data['Sepal Length'].min())\n",
        "\n",
        "# Range\n",
        "print(\"Sepal Length Range:\", data['Sepal Length'].max()-data['Sepal Length'].min())\n",
        "\n",
        "# Variance\n",
        "print(\"Sepal Length Variance:\", data['Sepal Length'].var())\n",
        "\n",
        "# Standard Deviation\n",
        "print(\"Sepal Length Standard Deviation:\", data['Sepal Length'].std())\n",
        "\n",
        "# First Quartile\n",
        "print(\"Q1:\",data['Sepal Length'].quantile(0.25))\n",
        "\n",
        "# Third Quartile\n",
        "print(\"Q3:\",data['Sepal Length'].quantile(0.75))\n",
        "\n",
        "# Inter Quartile Range\n",
        "print(\"IQR:\",data['Sepal Length'].quantile(0.75)-data['Sepal Length'].quantile(0.25))"
      ],
      "metadata": {
        "id": "dh_IRrE57Mh3"
      },
      "execution_count": null,
      "outputs": []
    },
    {
      "cell_type": "code",
      "source": [
        "# show basic descriptive statistics\n",
        "print(data.describe())"
      ],
      "metadata": {
        "id": "p3pU_hW3iFi3"
      },
      "execution_count": null,
      "outputs": []
    },
    {
      "cell_type": "code",
      "source": [
        "# plot the boxplot of a single variable\n",
        "from matplotlib import pyplot\n",
        "\n",
        "pyplot.boxplot(data['Sepal Width'], labels=['Sepal Width'])\n",
        "pyplot.xlabel('(cm)')\n",
        "print(data['Sepal Width'].describe())"
      ],
      "metadata": {
        "id": "JnA3mJwKMhyP"
      },
      "execution_count": null,
      "outputs": []
    },
    {
      "cell_type": "code",
      "source": [
        "pyplot.boxplot(data.iloc[:,0:4], labels=data.columns[0:4])\n",
        "pyplot.ylabel('(cm)')"
      ],
      "metadata": {
        "id": "-rWKdBvTNYNC"
      },
      "execution_count": null,
      "outputs": []
    },
    {
      "cell_type": "markdown",
      "source": [
        "# Measuring the Shape"
      ],
      "metadata": {
        "id": "Ap_VuaVlQlrt"
      }
    },
    {
      "cell_type": "code",
      "source": [
        "# Skewness\n",
        "data.iloc[:,0:4].skew()"
      ],
      "metadata": {
        "id": "zYcH_BwrQQW8"
      },
      "execution_count": null,
      "outputs": []
    },
    {
      "cell_type": "code",
      "source": [
        "# Kurtosis\n",
        "data.iloc[:,0:4].kurtosis()"
      ],
      "metadata": {
        "id": "-TmSMNU-Qz55"
      },
      "execution_count": null,
      "outputs": []
    },
    {
      "cell_type": "code",
      "source": [
        "# Distribution plot\n",
        "import seaborn as sns\n",
        "sns.displot(data['Sepal Length'], kind=\"kde\") # Single attribute\n",
        "pyplot.axvline(x = data['Sepal Length'].mean(),\n",
        "           ymin = 0, # Bottom of the plot\n",
        "           ymax = 1,  # Top of the plot\n",
        "           color = 'r')\n",
        "pyplot.axvline(x = data['Sepal Length'].median(),\n",
        "           ymin = 0,\n",
        "           ymax = 1,\n",
        "           color = 'g')\n",
        "pyplot.axvline(x = data['Sepal Length'].mode()[0],\n",
        "           ymin = 0,\n",
        "           ymax = 1,\n",
        "           color = 'y')\n",
        "pyplot.legend(labels = ['Distribution','Mean','Median','Mode'])"
      ],
      "metadata": {
        "id": "WlJk5yGDSsqx"
      },
      "execution_count": null,
      "outputs": []
    },
    {
      "cell_type": "code",
      "source": [
        "sns.displot(data.iloc[:,0:4], kind=\"kde\")\n",
        "pyplot.xlabel('Values (cm)')"
      ],
      "metadata": {
        "id": "mgtV_Uq-TOSC"
      },
      "execution_count": null,
      "outputs": []
    },
    {
      "cell_type": "code",
      "source": [
        "# scatterplot\n",
        "pyplot.plot(data['Sepal Length'],data['Sepal Width'],'bo')\n",
        "pyplot.xlabel('Sepal Length')\n",
        "pyplot.ylabel('Sepal Width')"
      ],
      "metadata": {
        "id": "ji3KjFL0ckrB"
      },
      "execution_count": null,
      "outputs": []
    },
    {
      "cell_type": "code",
      "source": [
        "pyplot.plot(data['Petal Length'],data['Petal Width'],'bo')\n",
        "pyplot.xlabel('Petal Length')\n",
        "pyplot.ylabel('Petal Width')"
      ],
      "metadata": {
        "id": "ePqswdkmeAAc"
      },
      "execution_count": null,
      "outputs": []
    }
  ]
}