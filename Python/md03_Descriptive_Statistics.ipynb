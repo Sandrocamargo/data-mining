{
  "cells": [
    {
      "cell_type": "markdown",
      "metadata": {
        "id": "4tgMtxMh1I5U"
      },
      "source": [
        "# Descriptive Statistics\n",
        "### Author: Prof. Sandro Camargo <github.com/sandrocamargo>\n",
        "### Data Mining Course <https://moodle.unipampa.edu.br/moodle/course/view.php?id=5213>\n",
        "#### This script uses the basic concepts of descriptive statistics.\n",
        "##### In this script, we used the iris dataset https://archive.ics.uci.edu/dataset/53/iris\n",
        "\n",
        "To open this notebook in your Google Colab environment, [click here](https://colab.research.google.com/github/Sandrocamargo/data-mining/blob/main/Python/md03_Descriptive_Statistics.ipynb)."
      ]
    },
    {
      "cell_type": "code",
      "execution_count": null,
      "metadata": {
        "id": "i4k27LjYoZ7H"
      },
      "outputs": [],
      "source": [
        "# Download and unzip the dataset\n",
        "!wget -c https://archive.ics.uci.edu/static/public/53/iris.zip\n",
        "!unzip -u iris.zip"
      ]
    },
    {
      "cell_type": "code",
      "execution_count": null,
      "metadata": {
        "id": "9HCGupUW4zGl"
      },
      "outputs": [],
      "source": [
        "# import and inspect the dataset\n",
        "import pandas as pd\n",
        "\n",
        "data = pd.read_csv('iris.data', header=None)\n",
        "data.columns = ['Sepal Length','Sepal Width','Petal Length','Petal Width','Species']\n",
        "data.head() # Show first 5 samples"
      ]
    },
    {
      "cell_type": "markdown",
      "metadata": {
        "id": "wW-DX-JF6THy"
      },
      "source": [
        "# Computing Central Tendency Measures"
      ]
    },
    {
      "cell_type": "code",
      "execution_count": null,
      "metadata": {
        "id": "fnUazh3m5tfV"
      },
      "outputs": [],
      "source": [
        "# Mean\n",
        "print(\"Sepal Length Mean:\",data['Sepal Length'].mean(),\"\\n\") # For a single attribute\n",
        "print(data.iloc[:,0:4].mean()) # For all lines \":\", for attributes from 0 to 3\n",
        "print(data.iloc[:,[0,2]].mean()) # For all lines \":\", for attributes 0 and 2\n",
        "\n",
        "# Median\n",
        "print(\"\\nSepal Length Median:\",data['Sepal Length'].median())\n",
        "print(\"Sepal Width Median:\",data['Sepal Width'].median())\n",
        "\n",
        "# Mode\n",
        "print(\"\\nSepal Length Mode:\",data['Sepal Length'].mode())\n",
        "print(\"Sepal Width Mode:\",data['Sepal Width'].mode())"
      ]
    },
    {
      "cell_type": "markdown",
      "metadata": {
        "id": "7z0BbxVT7MTU"
      },
      "source": [
        "# Computing Dispersion Measurements"
      ]
    },
    {
      "cell_type": "code",
      "execution_count": null,
      "metadata": {
        "id": "dh_IRrE57Mh3"
      },
      "outputs": [],
      "source": [
        "# Minimum\n",
        "print(\"Sepal Length Minimum Value:\", data['Sepal Length'].max())\n",
        "\n",
        "# Maximum\n",
        "print(\"Sepal Length Maximum Value:\", data['Sepal Length'].min())\n",
        "\n",
        "# Range\n",
        "print(\"Sepal Length Range:\", data['Sepal Length'].max()-data['Sepal Length'].min())\n",
        "\n",
        "# Variance\n",
        "print(\"Sepal Length Variance:\", data['Sepal Length'].var())\n",
        "\n",
        "# Standard Deviation\n",
        "print(\"Sepal Length Standard Deviation:\", data['Sepal Length'].std())\n",
        "\n",
        "# First Quartile\n",
        "print(\"Q1:\",data['Sepal Length'].quantile(0.25))\n",
        "\n",
        "# Third Quartile\n",
        "print(\"Q3:\",data['Sepal Length'].quantile(0.75))\n",
        "\n",
        "# Inter Quartile Range\n",
        "print(\"IQR:\",data['Sepal Length'].quantile(0.75)-data['Sepal Length'].quantile(0.25))"
      ]
    },
    {
      "cell_type": "code",
      "execution_count": null,
      "metadata": {
        "id": "p3pU_hW3iFi3"
      },
      "outputs": [],
      "source": [
        "# show basic descriptive statistics for all attributes\n",
        "print(data.describe())"
      ]
    },
    {
      "cell_type": "code",
      "execution_count": null,
      "metadata": {
        "id": "JnA3mJwKMhyP"
      },
      "outputs": [],
      "source": [
        "# plot the boxplot of a single variable\n",
        "from matplotlib import pyplot as plt\n",
        "\n",
        "plt.boxplot(data['Sepal Width'], labels=['Sepal Width'])\n",
        "plt.xlabel('(cm)')\n",
        "print(data['Sepal Width'].describe())"
      ]
    },
    {
      "cell_type": "code",
      "execution_count": null,
      "metadata": {
        "id": "-rWKdBvTNYNC"
      },
      "outputs": [],
      "source": [
        "plt.boxplot(data.iloc[:,0:4], labels=data.columns[0:4])\n",
        "plt.ylabel('Dimension (cm)')"
      ]
    },
    {
      "cell_type": "markdown",
      "metadata": {
        "id": "Ap_VuaVlQlrt"
      },
      "source": [
        "# Measuring the Shape"
      ]
    },
    {
      "cell_type": "code",
      "execution_count": null,
      "metadata": {
        "id": "zYcH_BwrQQW8"
      },
      "outputs": [],
      "source": [
        "# Skewness\n",
        "# skew() > 0 in positive skewed distributions\n",
        "# skew() = 0.0... in symmetrical distributions\n",
        "# skew() < 0 in negative skewed distributions\n",
        "data.iloc[:,0:4].skew()"
      ]
    },
    {
      "cell_type": "code",
      "execution_count": null,
      "metadata": {
        "id": "-TmSMNU-Qz55"
      },
      "outputs": [],
      "source": [
        "# Kurtosis\n",
        "# kurtosis > 0 in leptokurtic distributions\n",
        "# kurtosis = 0.0... in mesokurtic distributions\n",
        "# kurtosis < 0 in platykurtic distributions\n",
        "data.iloc[:,0:4].kurtosis()"
      ]
    },
    {
      "cell_type": "code",
      "execution_count": null,
      "metadata": {
        "id": "WlJk5yGDSsqx"
      },
      "outputs": [],
      "source": [
        "# Distribution plot\n",
        "import seaborn as sns\n",
        "sns.displot(data['Sepal Length'], kind=\"kde\") # Single attribute\n",
        "plt.axvline(x = data['Sepal Length'].mean(),\n",
        "           ymin = 0, # Bottom of the plot\n",
        "           ymax = 1,  # Top of the plot\n",
        "           color = 'r')\n",
        "plt.axvline(x = data['Sepal Length'].median(),\n",
        "           ymin = 0,\n",
        "           ymax = 1,\n",
        "           color = 'g')\n",
        "plt.axvline(x = data['Sepal Length'].mode()[0],\n",
        "           ymin = 0,\n",
        "           ymax = 1,\n",
        "           color = 'y')\n",
        "plt.legend(labels = ['Distribution','Mean','Median','Mode'])"
      ]
    },
    {
      "cell_type": "code",
      "execution_count": null,
      "metadata": {
        "id": "e454anR-C_Sq"
      },
      "outputs": [],
      "source": [
        "# Distribution plot\n",
        "sns.displot(data['Sepal Width'], kind=\"kde\") # Single attribute\n",
        "plt.axvline(x = data['Sepal Width'].mean(),\n",
        "           ymin = 0, # Bottom of the plot\n",
        "           ymax = 1,  # Top of the plot\n",
        "           color = 'r')\n",
        "plt.axvline(x = data['Sepal Width'].median(),\n",
        "           ymin = 0,\n",
        "           ymax = 1,\n",
        "           color = 'g')\n",
        "plt.axvline(x = data['Sepal Width'].mode()[0],\n",
        "           ymin = 0,\n",
        "           ymax = 1,\n",
        "           color = 'y')\n",
        "plt.legend(labels = ['Distribution','Mean','Median','Mode'])"
      ]
    },
    {
      "cell_type": "code",
      "execution_count": null,
      "metadata": {
        "id": "mgtV_Uq-TOSC"
      },
      "outputs": [],
      "source": [
        "sns.displot(data.iloc[:,0:4], kind=\"kde\")\n",
        "plt.xlabel('Values (cm)')"
      ]
    },
    {
      "cell_type": "code",
      "execution_count": null,
      "metadata": {
        "id": "ji3KjFL0ckrB"
      },
      "outputs": [],
      "source": [
        "import scipy.stats # To compute correlation coefficient\n",
        "\n",
        "# scatterplot\n",
        "plt.plot(data['Sepal Length'],data['Sepal Width'],'bo')\n",
        "plt.xlabel('Sepal Length')\n",
        "plt.ylabel('Sepal Width')\n",
        "plt.title('Correlation: %1.4f' %scipy.stats.pearsonr(data['Sepal Length'],data['Sepal Width'])[0])"
      ]
    },
    {
      "cell_type": "code",
      "execution_count": null,
      "metadata": {
        "id": "ePqswdkmeAAc"
      },
      "outputs": [],
      "source": [
        "plt.plot(data['Petal Length'],data['Petal Width'],'bo')\n",
        "plt.xlabel('Petal Length')\n",
        "plt.ylabel('Petal Width')\n",
        "plt.title('Correlation: %1.4f' %scipy.stats.pearsonr(data['Petal Length'],data['Petal Width'])[0])"
      ]
    },
    {
      "cell_type": "code",
      "execution_count": null,
      "metadata": {
        "id": "8ZPAXKVZOXr4"
      },
      "outputs": [],
      "source": [
        "sns.pairplot(data, hue='Species', markers=[\"o\", \"s\", \"D\"])"
      ]
    },
    {
      "cell_type": "code",
      "source": [
        "sns.boxplot(x='Species', y='Petal Width', data=data)"
      ],
      "metadata": {
        "id": "LwP9yMQXsb4e"
      },
      "execution_count": null,
      "outputs": []
    },
    {
      "cell_type": "code",
      "source": [
        "sns.boxplot(x='Species', y='Petal Length', data=data)"
      ],
      "metadata": {
        "id": "qS8P39mWsjWA"
      },
      "execution_count": null,
      "outputs": []
    },
    {
      "cell_type": "code",
      "source": [
        "sns.boxplot(x='Species', y='Sepal Width', data=data)"
      ],
      "metadata": {
        "id": "rFEoEu2QsoOB"
      },
      "execution_count": null,
      "outputs": []
    }
  ],
  "metadata": {
    "colab": {
      "provenance": []
    },
    "kernelspec": {
      "display_name": "Python 3",
      "name": "python3"
    },
    "language_info": {
      "name": "python"
    }
  },
  "nbformat": 4,
  "nbformat_minor": 0
}