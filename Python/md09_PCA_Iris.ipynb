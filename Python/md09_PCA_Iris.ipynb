{
  "nbformat": 4,
  "nbformat_minor": 0,
  "metadata": {
    "colab": {
      "provenance": []
    },
    "kernelspec": {
      "name": "python3",
      "display_name": "Python 3"
    },
    "language_info": {
      "name": "python"
    }
  },
  "cells": [
    {
      "cell_type": "markdown",
      "source": [
        "# Principal Component Analysis\n",
        "\n",
        "Author: Prof. Sandro Camargo <github.com/sandrocamargo>\n",
        "\n",
        "Data Mining Course https://moodle.unipampa.edu.br/moodle/course/view.php?id=5213\n",
        "\n",
        "This script uses the basic concepts of PCA.\n",
        "\n",
        "In this script, we used the iris dataset https://archive.ics.uci.edu/dataset/53/iris\n",
        "\n",
        "To open this script in your google colab environment, [click here](https://colab.research.google.com/github/Sandrocamargo/data-mining/blob/main/Python/md07_clustering.ipynb)."
      ],
      "metadata": {
        "id": "0Z5PjInRA3KM"
      }
    },
    {
      "cell_type": "code",
      "execution_count": null,
      "metadata": {
        "id": "SZsGE7kv0-G1"
      },
      "outputs": [],
      "source": [
        "# ------------------------------------------------------------------------------\n",
        "# Import libraries\n",
        "# ------------------------------------------------------------------------------\n",
        "import numpy as np\n",
        "import matplotlib.pyplot as plt\n",
        "from sklearn.datasets import load_iris\n",
        "from sklearn.preprocessing import StandardScaler\n",
        "from sklearn.decomposition import PCA"
      ]
    },
    {
      "cell_type": "code",
      "source": [
        "# ------------------------------------------------------------------------------\n",
        "# Loading Iris Dataset\n",
        "# ------------------------------------------------------------------------------\n",
        "iris = load_iris()\n",
        "X = iris.data\n",
        "y = iris.target\n",
        "feature_names = iris.feature_names\n",
        "target_names = iris.target_names"
      ],
      "metadata": {
        "id": "k-VckOJD1Al5"
      },
      "execution_count": null,
      "outputs": []
    },
    {
      "cell_type": "code",
      "source": [
        "# ------------------------------------------------------------------------------\n",
        "# Standardize the data (important for PCA!)\n",
        "# ------------------------------------------------------------------------------\n",
        "scaler = StandardScaler()\n",
        "X_std = scaler.fit_transform(X)"
      ],
      "metadata": {
        "id": "wSE9RkrM1C3K"
      },
      "execution_count": null,
      "outputs": []
    },
    {
      "cell_type": "code",
      "source": [
        "# ------------------------------------------------------------------------------\n",
        "# Perform PCA, reducing dimensions to 2\n",
        "# ------------------------------------------------------------------------------\n",
        "pca = PCA(n_components=2)\n",
        "X_pca = pca.fit_transform(X_std)\n",
        "\n",
        "print(\"Explained variance ratio:\")\n",
        "print(pca.explained_variance_ratio_)"
      ],
      "metadata": {
        "id": "9IOCIUz21FHq"
      },
      "execution_count": null,
      "outputs": []
    },
    {
      "cell_type": "code",
      "source": [
        "# ------------------------------------------------------------------------------\n",
        "# Plot PCA results\n",
        "# ------------------------------------------------------------------------------\n",
        "plt.figure()\n",
        "colors = ['r', 'g', 'b']\n",
        "\n",
        "for i, target in enumerate(target_names):\n",
        "    idx = (y == i)\n",
        "    plt.scatter(X_pca[idx, 0], X_pca[idx, 1],\n",
        "                color=colors[i], label=target)\n",
        "\n",
        "# Variância explicada em porcentagem\n",
        "explained_var = pca.explained_variance_ratio_ * 100\n",
        "\n",
        "plt.xlabel(f'PC 1 ({explained_var[0]:.2f}%)')\n",
        "plt.ylabel(f'PC 2 ({explained_var[1]:.2f}%)')\n",
        "plt.legend()\n",
        "plt.title('PCA of Iris Dataset')\n",
        "\n",
        "# ------------------------------------------------------------------------------\n",
        "# 6. Display the plot\n",
        "# ------------------------------------------------------------------------------\n",
        "plt.show()\n"
      ],
      "metadata": {
        "id": "WZarFSFw1HQM"
      },
      "execution_count": null,
      "outputs": []
    },
    {
      "cell_type": "code",
      "source": [
        "# ------------------------------------------------------------------------------\n",
        "# Plotting the components to see contributions of original variables\n",
        "# ------------------------------------------------------------------------------\n",
        "\n",
        "fig, ax = plt.subplots(1, 2, figsize=(14, 5))\n",
        "\n",
        "for i in range(2):\n",
        "    ax[i].bar(feature_names, pca.components_[i], color='skyblue')\n",
        "    ax[i].set_title(f'PC {i+1}')\n",
        "    ax[i].set_xticklabels(feature_names, rotation=45, ha='right')\n",
        "    ax[i].set_ylabel('Weight')\n",
        "\n",
        "fig.suptitle('Feature Loading on Principal Components')\n",
        "plt.tight_layout()\n",
        "plt.show()\n"
      ],
      "metadata": {
        "id": "XVw1I1-l1mNR"
      },
      "execution_count": null,
      "outputs": []
    },
    {
      "cell_type": "code",
      "source": [
        "import matplotlib.pyplot as plt\n",
        "from sklearn.datasets import load_iris\n",
        "from sklearn.decomposition import PCA\n",
        "\n",
        "# Loading Iris\n",
        "iris = load_iris()\n",
        "X = iris.data\n",
        "y = iris.target\n",
        "\n",
        "# Perform PCA to 2 components\n",
        "pca = PCA(n_components=2)\n",
        "X_pca = pca.fit_transform(X)\n",
        "\n",
        "# Plot PCA components\n",
        "plt.figure()\n",
        "for i, color in enumerate(['r', 'g', 'b']):\n",
        "    idx = (y == i)\n",
        "    plt.scatter(X_pca[idx, 0], X_pca[idx, 1], color=color, label=iris.target_names[i])\n",
        "\n",
        "plt.xlabel('PC 1')\n",
        "plt.ylabel('PC 2')\n",
        "plt.legend()\n",
        "plt.title('Iris projected into first two principal components')\n",
        "plt.show()\n"
      ],
      "metadata": {
        "id": "ortP9BNw2Q3W"
      },
      "execution_count": null,
      "outputs": []
    },
    {
      "cell_type": "code",
      "source": [
        "import numpy as np\n",
        "\n",
        "plt.figure()\n",
        "plt.bar(range(1, len(pca.explained_variance_ratio_)+1), pca.explained_variance_ratio_*100)\n",
        "plt.xlabel('Principal Component')\n",
        "plt.ylabel('Explained Variance (%)')\n",
        "plt.title('Explained variance by principal components')\n",
        "plt.show()\n"
      ],
      "metadata": {
        "id": "d9qwCzVm2Uwp"
      },
      "execution_count": null,
      "outputs": []
    },
    {
      "cell_type": "code",
      "source": [
        "import seaborn as sns\n",
        "\n",
        "loadings = pca.components_\n",
        "\n",
        "fig, ax = plt.subplots()\n",
        "sns.heatmap(loadings, cmap='coolwarm', annot=True, xticklabels=iris.feature_names, yticklabels=['PC1', 'PC2'])\n",
        "ax.set_title('Feature Loading on Principal Components')\n",
        "plt.show()\n"
      ],
      "metadata": {
        "id": "vtUaXQwF2cjO"
      },
      "execution_count": null,
      "outputs": []
    }
  ]
}