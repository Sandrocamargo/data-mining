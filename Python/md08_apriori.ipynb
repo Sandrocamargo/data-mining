{
  "nbformat": 4,
  "nbformat_minor": 0,
  "metadata": {
    "colab": {
      "provenance": []
    },
    "kernelspec": {
      "name": "python3",
      "display_name": "Python 3"
    },
    "language_info": {
      "name": "python"
    }
  },
  "cells": [
    {
      "cell_type": "markdown",
      "source": [
        "###Association Rules - Apriori\n",
        "\n",
        "#Author: Prof. Sandro Camargo <github.com/sandrocamargo>\n",
        "\n",
        "Data Mining Course https://moodle.unipampa.edu.br/moodle/course/view.php?id=5213\n",
        "\n",
        "This script uses the basic concepts of association rules.\n",
        "\n",
        "In this script, we used the groceries dataset: https://www.kaggle.com/datasets/heeraldedhia/groceries-dataset?select=Groceries_dataset.csv\n",
        "\n",
        "To open this notebook in your Google Colab environment, [click here](https://colab.research.google.com/github/Sandrocamargo/data-mining/blob/main/Python/md08_apriori.ipynb)."
      ],
      "metadata": {
        "id": "cHuYzifSKITN"
      }
    },
    {
      "cell_type": "code",
      "source": [
        "!pip install apyori"
      ],
      "metadata": {
        "id": "CtzSJPbn6Bbx"
      },
      "execution_count": null,
      "outputs": []
    },
    {
      "cell_type": "code",
      "execution_count": null,
      "metadata": {
        "id": "qLpnsXUw58o9"
      },
      "outputs": [],
      "source": [
        "# This Python 3 environment comes with many helpful analytics libraries installed\n",
        "import numpy as np # linear algebra\n",
        "import pandas as pd # data processing, CSV file I/O (e.g. pd.read_csv)\n",
        "from apyori import apriori\n",
        "import matplotlib.pyplot as plt\n",
        "import seaborn as sns"
      ]
    },
    {
      "cell_type": "code",
      "source": [
        "!curl -L -o groceries-dataset.zip https://www.kaggle.com/api/v1/datasets/download/heeraldedhia/groceries-dataset\n",
        "!echo A | unzip groceries-dataset.zip"
      ],
      "metadata": {
        "id": "i8hf2gE4B0fs"
      },
      "execution_count": null,
      "outputs": []
    },
    {
      "cell_type": "code",
      "source": [
        "# Import Data from CSV file\n",
        "dataset = pd.read_csv('Groceries_dataset.csv')"
      ],
      "metadata": {
        "id": "a_ucsiuq6PyC"
      },
      "execution_count": null,
      "outputs": []
    },
    {
      "cell_type": "code",
      "source": [
        "# View the dataset\n",
        "dataset.head(10)"
      ],
      "metadata": {
        "id": "NCBP16j66WJI"
      },
      "execution_count": null,
      "outputs": []
    },
    {
      "cell_type": "code",
      "source": [
        "# Create a unique transaction ID (e.g., by combining member number and date)\n",
        "dataset['Transaction'] = dataset['Member_number'].astype(str) + '_' + dataset['Date']\n",
        "\n",
        "print(dataset)\n",
        "\n",
        "# Group items by transaction\n",
        "transactions = dataset.groupby('Transaction')['itemDescription'].apply(list).tolist()\n",
        "print(transactions)"
      ],
      "metadata": {
        "id": "0v6sumWA6aCx"
      },
      "execution_count": null,
      "outputs": []
    },
    {
      "cell_type": "code",
      "source": [
        "# Apply Apriori algorithm\n",
        "results = list(apriori(transactions, min_support=0.01, min_confidence=0.01, min_lift=0, min_length = 2))\n",
        "\n",
        "# Min_support  = 3(3 times a day) * 7 (7 days a week) / 9835 = 0.0022\n",
        "# Min_confidence = set it lower to get more relations between products (weak relations), if we set it high then\n",
        "# we might miss some. I have selected confidence of 0.20\n",
        "# Min_lift = In order to get some relevant rules, I am setting min_lift to 3."
      ],
      "metadata": {
        "id": "hMXJNa196e6W"
      },
      "execution_count": null,
      "outputs": []
    },
    {
      "cell_type": "code",
      "source": [
        "# Extracting useful metrics from rules\n",
        "rules_list = []\n",
        "for rule in results:\n",
        "    for stat in rule.ordered_statistics:\n",
        "        if len(stat.items_base) > 0:\n",
        "            rules_list.append({\n",
        "                'base': ', '.join(stat.items_base),\n",
        "                'add': ', '.join(stat.items_add),\n",
        "                'support': rule.support,\n",
        "                'confidence': stat.confidence,\n",
        "                'lift': stat.lift\n",
        "            })\n",
        "\n",
        "rules_df = pd.DataFrame(rules_list)\n",
        "print(rules_df)"
      ],
      "metadata": {
        "id": "vWWixp6pEgUL"
      },
      "execution_count": null,
      "outputs": []
    },
    {
      "cell_type": "code",
      "source": [
        "# See the items that were bought together with their support\n",
        "#results_list = []\n",
        "#for i in range(0, len(results)):\n",
        "#    results_list.append('RULE:' + str(results[i][0]) + '\\nSUP:' + str(results[i][1]) + '\\nCONF:' + str(results[i][2]) + '\\n\\n')"
      ],
      "metadata": {
        "id": "6vSgxk796hqK"
      },
      "execution_count": null,
      "outputs": []
    },
    {
      "cell_type": "code",
      "source": [
        "#print(\"The list of rules generated by the Apriori algorithm are:\")\n",
        "#for i in range(0, len(results_list)):\n",
        "#    print(results_list[i])"
      ],
      "metadata": {
        "id": "QGSbk-dpIxYT"
      },
      "execution_count": null,
      "outputs": []
    },
    {
      "cell_type": "code",
      "source": [
        "top_lift = rules_df.sort_values(by='lift', ascending=False).head(15)\n",
        "\n",
        "plt.figure(figsize=(12, 6))\n",
        "plt.barh(range(len(top_lift)), top_lift['lift'], color='skyblue')\n",
        "plt.yticks(range(len(top_lift)), [f\"{a} => {b}\" for a, b in zip(top_lift['base'], top_lift['add'])])\n",
        "plt.xlabel('Lift')\n",
        "plt.title('Top 10 Association Rules by Lift')\n",
        "plt.gca().invert_yaxis()\n",
        "plt.tight_layout()\n",
        "plt.show()"
      ],
      "metadata": {
        "id": "zNhh5KyMFV1R"
      },
      "execution_count": null,
      "outputs": []
    },
    {
      "cell_type": "code",
      "source": [
        "plt.figure(figsize=(10, 6))\n",
        "plt.scatter(rules_df['support'], rules_df['confidence'], alpha=0.7, c=rules_df['lift'], cmap='viridis')\n",
        "plt.colorbar(label='Lift')\n",
        "plt.title('Support vs Confidence')\n",
        "plt.xlabel('Support')\n",
        "plt.ylabel('Confidence')\n",
        "plt.grid(True)\n",
        "plt.show()"
      ],
      "metadata": {
        "id": "iVSyxxUpFLtl"
      },
      "execution_count": null,
      "outputs": []
    },
    {
      "cell_type": "code",
      "source": [
        "plt.figure(figsize=(10, 6))\n",
        "sns.scatterplot(data=rules_df, x='support', y='lift', size='confidence', hue='confidence', palette='cool', legend='brief', sizes=(50, 300))\n",
        "plt.title('Support vs Lift (size and color = Confidence)')\n",
        "plt.xlabel('Support')\n",
        "plt.ylabel('Lift')\n",
        "plt.grid(True)\n",
        "plt.show()"
      ],
      "metadata": {
        "id": "NjgFcT92Ff3D"
      },
      "execution_count": null,
      "outputs": []
    },
    {
      "cell_type": "code",
      "source": [
        "plt.figure(figsize=(10, 6))\n",
        "sns.scatterplot(data=rules_df, x='confidence', y='lift', size='support', hue='support', palette='viridis', sizes=(50, 300))\n",
        "plt.title('Confidence vs Lift (size and color = Support)')\n",
        "plt.xlabel('Confidence')\n",
        "plt.ylabel('Lift')\n",
        "plt.grid(True)\n",
        "plt.show()"
      ],
      "metadata": {
        "id": "Y-LyHWVrFrW-"
      },
      "execution_count": null,
      "outputs": []
    },
    {
      "cell_type": "code",
      "source": [
        "pivot = rules_df.pivot(index='base', columns='add', values='lift')\n",
        "\n",
        "plt.figure(figsize=(12, 8))\n",
        "sns.heatmap(pivot, annot=True, fmt=\".2f\", cmap='YlGnBu')\n",
        "plt.title('Lift Heatmap of Association Rules')\n",
        "plt.xlabel('Consequent (add)')\n",
        "plt.ylabel('Antecedent (base)')\n",
        "plt.tight_layout()\n",
        "plt.show()\n"
      ],
      "metadata": {
        "id": "b_bMcexlFv7S"
      },
      "execution_count": null,
      "outputs": []
    },
    {
      "cell_type": "code",
      "source": [
        "from pandas.plotting import parallel_coordinates\n",
        "\n",
        "rules_df_top = rules_df[['support', 'confidence', 'lift']].copy()\n",
        "rules_df_top['rule'] = [f\"{a} => {b}\" for a, b in zip(rules_df['base'], rules_df['add'])]\n",
        "rules_df_top = rules_df_top.sort_values(by='lift', ascending=False).head(10)\n",
        "\n",
        "plt.figure(figsize=(12, 6))\n",
        "parallel_coordinates(rules_df_top, 'rule', colormap='viridis')\n",
        "plt.title('Parallel Coordinates Plot of Top Rules')\n",
        "plt.ylabel('Metric Value')\n",
        "plt.xticks(rotation=45)\n",
        "plt.grid(True)\n",
        "plt.tight_layout()\n",
        "plt.show()\n"
      ],
      "metadata": {
        "id": "_HvPb5reF3-C"
      },
      "execution_count": null,
      "outputs": []
    },
    {
      "cell_type": "code",
      "source": [
        "from mpl_toolkits.mplot3d import Axes3D\n",
        "\n",
        "fig = plt.figure(figsize=(10, 8))\n",
        "ax = fig.add_subplot(111, projection='3d')\n",
        "\n",
        "ax.scatter(rules_df['support'], rules_df['confidence'], rules_df['lift'],\n",
        "           c=rules_df['lift'], cmap='plasma', s=100, alpha=0.7)\n",
        "\n",
        "ax.set_xlabel('Support')\n",
        "ax.set_ylabel('Confidence')\n",
        "ax.set_zlabel('Lift')\n",
        "ax.set_title('3D Scatter Plot of Association Rules')\n",
        "plt.show()\n"
      ],
      "metadata": {
        "id": "BrWzlr4MF_7d"
      },
      "execution_count": null,
      "outputs": []
    }
  ]
}