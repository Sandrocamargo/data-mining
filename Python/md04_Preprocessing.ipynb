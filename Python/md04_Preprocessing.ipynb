{
  "cells": [
    {
      "cell_type": "markdown",
      "metadata": {
        "id": "4tgMtxMh1I5U"
      },
      "source": [
        "# Preprocessing\n",
        "### Author: Prof. Sandro Camargo <github.com/sandrocamargo>\n",
        "### Data Mining Course <https://moodle.unipampa.edu.br/moodle/course/view.php?id=5213>\n",
        "#### This script uses the basic concepts of preprocessing.\n",
        "##### In this script, we used the iris dataset https://archive.ics.uci.edu/dataset/47/horse+colic\n"
      ]
    },
    {
      "cell_type": "code",
      "execution_count": null,
      "metadata": {
        "id": "i4k27LjYoZ7H"
      },
      "outputs": [],
      "source": [
        "# Download and unzip the dataset\n",
        "!wget -c https://archive.ics.uci.edu/static/public/47/horse+colic.zip\n",
        "!unzip -u horse+colic.zip"
      ]
    },
    {
      "cell_type": "markdown",
      "source": [
        "Importing a dataset without properly setting the importation parameters.\n",
        "\n",
        "Data inspection \"data.head()\" shows the dataset loaded in a single column"
      ],
      "metadata": {
        "id": "ochVMH-hr5-f"
      }
    },
    {
      "cell_type": "code",
      "execution_count": null,
      "metadata": {
        "id": "9HCGupUW4zGl"
      },
      "outputs": [],
      "source": [
        "# import and inspect the dataset\n",
        "import pandas as pd\n",
        "\n",
        "data = pd.read_csv('horse-colic.data')\n",
        "data.head() # Show first 5 samples"
      ]
    },
    {
      "cell_type": "code",
      "source": [
        "data = pd.read_csv('horse-colic.data', delimiter=\" \", header=None, usecols=[*range(0,28)], na_values=\"?\")\n",
        "data.columns = ['Surgery','Age','Hospital Number','Rectal Temperature','Pulse','Respiratory Rate','Temperature of Extremities','Peripheral Pulse','Mucous Membranes','Capillary Refill Time','Pain','Peristalsis','Abdominal Distension','Nasogastric Tube','Nasogastric Reflux','Nasogastric Reflux PH','Rectal Examination Feces','Abdomen','Packed Cell Volume','Total Protein','Abdominocentesis Appearance','Abdominocentesis Total Protein','Outcome','Surgical Lesion','Lesion Site','Lesion Type','Lesion Subtype','CP Data']\n",
        "data.head() # Show first 5 samples"
      ],
      "metadata": {
        "id": "DvjGDeD5j963"
      },
      "execution_count": null,
      "outputs": []
    },
    {
      "cell_type": "markdown",
      "metadata": {
        "id": "wW-DX-JF6THy"
      },
      "source": [
        "# Getting to know your data"
      ]
    },
    {
      "cell_type": "code",
      "execution_count": null,
      "metadata": {
        "id": "fnUazh3m5tfV"
      },
      "outputs": [],
      "source": [
        "print(data.describe())"
      ]
    },
    {
      "cell_type": "markdown",
      "metadata": {
        "id": "7z0BbxVT7MTU"
      },
      "source": [
        "# Transformation"
      ]
    },
    {
      "cell_type": "code",
      "execution_count": null,
      "metadata": {
        "id": "dh_IRrE57Mh3"
      },
      "outputs": [],
      "source": [
        "# Transforming numerical to class\n",
        "print(data['Surgery'].value_counts())\n",
        "data['Surgery'] = data['Surgery'].astype(str)\n",
        "#print(data['Surgery'])\n",
        "data['Surgery'].replace('1.0', 'Yes', inplace=True)\n",
        "data['Surgery'].replace('2.0', 'No', inplace=True)\n",
        "print(data['Surgery'].value_counts())\n"
      ]
    },
    {
      "cell_type": "code",
      "execution_count": null,
      "metadata": {
        "id": "p3pU_hW3iFi3"
      },
      "outputs": [],
      "source": [
        "# Getting to know your data\",\n",
        "import seaborn as sns\n",
        "import matplotlib.pyplot as plt\n",
        "\n",
        "sns.pairplot(data, hue='Surgery', markers=[\"o\", \"s\", \"D\"])\n",
        "plt.savefig(\"horse-colic-pairplot.pdf\")"
      ]
    },
    {
      "cell_type": "code",
      "execution_count": null,
      "metadata": {
        "id": "JnA3mJwKMhyP"
      },
      "outputs": [],
      "source": [
        "# plot the boxplot of a single variable\n",
        "import matplotlib.pyplot as plt\n",
        "\n",
        "sns.boxplot(x='Surgery', y='Pulse', data=data)\n",
        "print(data['Pulse'].describe())"
      ]
    },
    {
      "cell_type": "code",
      "source": [
        "# plot the boxplot of a single variable\n",
        "import matplotlib.pyplot as plt\n",
        "\n",
        "sns.boxplot(x='Surgery', y='Respiratory Rate', data=data)\n",
        "print(data['Respiratory Rate'].describe())"
      ],
      "metadata": {
        "id": "6GwfjJyt-5IT"
      },
      "execution_count": null,
      "outputs": []
    }
  ],
  "metadata": {
    "colab": {
      "provenance": []
    },
    "kernelspec": {
      "display_name": "Python 3",
      "name": "python3"
    },
    "language_info": {
      "name": "python"
    }
  },
  "nbformat": 4,
  "nbformat_minor": 0
}