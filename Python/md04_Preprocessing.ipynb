{
  "cells": [
    {
      "cell_type": "markdown",
      "metadata": {
        "id": "4tgMtxMh1I5U"
      },
      "source": [
        "# Preprocessing\n",
        "### Author: Prof. Sandro Camargo <github.com/sandrocamargo>\n",
        "### Data Mining Course <https://moodle.unipampa.edu.br/moodle/course/view.php?id=5213>\n",
        "#### This script uses the basic concepts of preprocessing.\n",
        "##### In this script, we used the iris dataset https://archive.ics.uci.edu/dataset/47/horse+colic\n",
        "\n",
        "To open this notebook in your Google Colab environment, [click here](https://colab.research.google.com/github/Sandrocamargo/data-mining/blob/main/Python/md04_Preprocessing.ipynb)."
      ]
    },
    {
      "cell_type": "code",
      "execution_count": null,
      "metadata": {
        "id": "i4k27LjYoZ7H"
      },
      "outputs": [],
      "source": [
        "# Download and unzip the dataset\n",
        "!wget -c https://archive.ics.uci.edu/static/public/47/horse+colic.zip\n",
        "!unzip -u horse+colic.zip"
      ]
    },
    {
      "cell_type": "markdown",
      "source": [
        "Importing a dataset without properly setting the importation parameters.\n",
        "\n",
        "Data inspection \"data.head()\" shows the dataset loaded in a single column"
      ],
      "metadata": {
        "id": "ochVMH-hr5-f"
      }
    },
    {
      "cell_type": "code",
      "execution_count": null,
      "metadata": {
        "id": "9HCGupUW4zGl"
      },
      "outputs": [],
      "source": [
        "# import and inspect the dataset\n",
        "import pandas as pd\n",
        "\n",
        "# Example of improper import execution without parameter configuration\n",
        "data = pd.read_csv('horse-colic.data')\n",
        "data.head() # Show first 5 samples"
      ]
    },
    {
      "cell_type": "code",
      "source": [
        "# Example of a proper import process with correctly set parameters\n",
        "data = pd.read_csv('horse-colic.data', delimiter=\" \", header=None, usecols=[*range(0,28)], na_values=\"?\")\n",
        "data.columns = ['Surgery','Age','Hospital Number','Rectal Temperature','Pulse','Respiratory Rate','Temperature of Extremities','Peripheral Pulse','Mucous Membranes','Capillary Refill Time','Pain','Peristalsis','Abdominal Distension','Nasogastric Tube','Nasogastric Reflux','Nasogastric Reflux PH','Rectal Examination Feces','Abdomen','Packed Cell Volume','Total Protein','Abdominocentesis Appearance','Abdominocentesis Total Protein','Outcome','Surgical Lesion','Lesion Site','Lesion Type','Lesion Subtype','CP Data']\n",
        "data.head() # Show first 5 samples"
      ],
      "metadata": {
        "id": "DvjGDeD5j963"
      },
      "execution_count": null,
      "outputs": []
    },
    {
      "cell_type": "markdown",
      "metadata": {
        "id": "wW-DX-JF6THy"
      },
      "source": [
        "# Getting to know your data"
      ]
    },
    {
      "cell_type": "code",
      "execution_count": null,
      "metadata": {
        "id": "fnUazh3m5tfV"
      },
      "outputs": [],
      "source": [
        "# Showing a summary for each column\n",
        "print(data.describe())"
      ]
    },
    {
      "cell_type": "code",
      "source": [
        "# Counting missing values per column\n",
        "data.isna().sum()"
      ],
      "metadata": {
        "id": "F4kZEP2MqV8t"
      },
      "execution_count": null,
      "outputs": []
    },
    {
      "cell_type": "markdown",
      "metadata": {
        "id": "7z0BbxVT7MTU"
      },
      "source": [
        "# Transformation"
      ]
    },
    {
      "cell_type": "code",
      "execution_count": null,
      "metadata": {
        "id": "dh_IRrE57Mh3"
      },
      "outputs": [],
      "source": [
        "# Transforming numerical to classes\n",
        "print(data['Surgery'].value_counts())\n",
        "\n",
        "data['Surgery'] = data['Surgery'].astype(str)\n",
        "data['Surgery'] = data['Surgery'].replace({'1.0': 'Yes', '2.0': 'No'})\n",
        "\n",
        "print(data['Surgery'].value_counts())"
      ]
    },
    {
      "cell_type": "code",
      "source": [
        "!pip install ydata_profiling\n",
        "from ydata_profiling import ProfileReport, compare\n",
        "report = ProfileReport(df=data, title=\"Horse Colic data profile\")\n",
        "report.to_file(\"profile_report.html\")\n",
        "report.to_notebook_iframe()"
      ],
      "metadata": {
        "id": "Lwidh_NhxYaa"
      },
      "execution_count": null,
      "outputs": []
    },
    {
      "cell_type": "code",
      "execution_count": null,
      "metadata": {
        "id": "JnA3mJwKMhyP"
      },
      "outputs": [],
      "source": [
        "import seaborn as sns\n",
        "\n",
        "# plot the boxplot of a single variable\n",
        "sns.boxplot(x='Surgery', y='Pulse', data=data)\n",
        "print(data['Pulse'].describe())"
      ]
    },
    {
      "cell_type": "code",
      "source": [
        "# plot the boxplot of a single variable\n",
        "sns.boxplot(x='Surgery', y='Respiratory Rate', data=data)\n",
        "print(data['Respiratory Rate'].describe())"
      ],
      "metadata": {
        "id": "6GwfjJyt-5IT"
      },
      "execution_count": null,
      "outputs": []
    },
    {
      "cell_type": "markdown",
      "source": [
        "# Values Imputation"
      ],
      "metadata": {
        "id": "MAf3nLLdK0i0"
      }
    },
    {
      "cell_type": "code",
      "source": [
        "# Removing missing values\n",
        "print(\"Original DataFrame Dimensions:\",data.shape)\n",
        "\n",
        "cleaned_data = data.dropna()\n",
        "print(\"Cleaned DataFrame Dimensions:\",cleaned_data.shape)"
      ],
      "metadata": {
        "id": "L4jwPzVa_gOO"
      },
      "execution_count": null,
      "outputs": []
    },
    {
      "cell_type": "code",
      "source": [
        "from sklearn.impute import SimpleImputer\n",
        "import numpy as np\n",
        "\n",
        "# Filling missing values using mean\n",
        "print(\"Original DataFrame Dimensions:\",data.shape)\n",
        "print(data['Pulse'].describe())\n",
        "imp_mean = SimpleImputer(missing_values=np.nan, strategy='mean')\n",
        "imp_mean.fit(data[['Pulse']])\n",
        "print(imp_mean.transform(data[['Pulse']]))"
      ],
      "metadata": {
        "id": "drQHRLkeCCIk"
      },
      "execution_count": null,
      "outputs": []
    },
    {
      "cell_type": "code",
      "source": [
        "# Filling missing values using median\n",
        "print(\"Original DataFrame Dimensions:\",data.shape)\n",
        "print(data['Respiratory Rate'].describe())\n",
        "imp_mean = SimpleImputer(missing_values=np.nan, strategy='median')\n",
        "imp_mean.fit(data[['Respiratory Rate']])\n",
        "print(imp_mean.transform(data[['Respiratory Rate']]))"
      ],
      "metadata": {
        "id": "YdFapDwT_8yE"
      },
      "execution_count": null,
      "outputs": []
    },
    {
      "cell_type": "code",
      "source": [
        "# Filling missing values using the most frequent value\n",
        "print(\"Original DataFrame Dimensions:\",data.shape)\n",
        "print(data['Age'].value_counts())\n",
        "imp_mean = SimpleImputer(missing_values=np.nan, strategy='most_frequent')\n",
        "imp_mean.fit(data[['Age']])\n",
        "print(imp_mean.transform(data[['Age']]))"
      ],
      "metadata": {
        "id": "b5rGbzVVBx0K"
      },
      "execution_count": null,
      "outputs": []
    },
    {
      "cell_type": "code",
      "execution_count": null,
      "metadata": {
        "id": "p3pU_hW3iFi3"
      },
      "outputs": [],
      "source": [
        "# Getting to know your data\"\n",
        "import seaborn as sns\n",
        "import matplotlib.pyplot as plt\n",
        "\n",
        "sns.pairplot(data, hue='Surgery', markers=[\"o\", \"s\", \"D\"])\n",
        "plt.savefig(\"horse-colic-pairplot.pdf\")"
      ]
    }
  ],
  "metadata": {
    "colab": {
      "provenance": []
    },
    "kernelspec": {
      "display_name": "Python 3",
      "name": "python3"
    },
    "language_info": {
      "name": "python"
    }
  },
  "nbformat": 4,
  "nbformat_minor": 0
}