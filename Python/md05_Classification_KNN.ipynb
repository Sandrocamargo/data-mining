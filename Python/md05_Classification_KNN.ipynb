{
  "cells": [
    {
      "cell_type": "markdown",
      "metadata": {
        "id": "4tgMtxMh1I5U"
      },
      "source": [
        "# Classification using KNN\n",
        "### Author: Prof. Sandro Camargo <github.com/sandrocamargo>\n",
        "### Data Mining Course <https://moodle.unipampa.edu.br/moodle/course/view.php?id=5213>\n",
        "#### This script uses the basic concepts of KNN.\n",
        "##### In this script, we used the iris dataset https://archive.ics.uci.edu/dataset/53/iris\n",
        "\n",
        "To open this notebook in your Google Colab environment, [click here](https://colab.research.google.com/github/Sandrocamargo/data-mining/blob/main/Python/md05_Classification_KNN.ipynb)."
      ]
    },
    {
      "cell_type": "code",
      "execution_count": null,
      "metadata": {
        "id": "i4k27LjYoZ7H"
      },
      "outputs": [],
      "source": [
        "# Download and unzip the dataset\n",
        "!wget -c https://archive.ics.uci.edu/static/public/53/iris.zip\n",
        "!unzip -u iris.zip"
      ]
    },
    {
      "cell_type": "code",
      "execution_count": null,
      "metadata": {
        "id": "9HCGupUW4zGl"
      },
      "outputs": [],
      "source": [
        "# import and inspect the dataset\n",
        "import pandas as pd\n",
        "\n",
        "data = pd.read_csv('iris.data', header=None)\n",
        "data.columns = ['Sepal Length','Sepal Width','Petal Length','Petal Width','Species']\n",
        "data.head() # Show first 5 samples"
      ]
    },
    {
      "cell_type": "code",
      "source": [
        "# Getting to know your data\",\n",
        "import seaborn as sns\n",
        "import matplotlib.pyplot as plt\n",
        "\n",
        "sns.pairplot(data, hue='Species', markers=[\"o\", \"s\", \"D\"])\n",
        "plt.savefig(\"iris-pairplot.pdf\")"
      ],
      "metadata": {
        "id": "IEkzj7ecovAi"
      },
      "execution_count": null,
      "outputs": []
    },
    {
      "cell_type": "code",
      "execution_count": null,
      "metadata": {
        "id": "z_JVscN2MC4u"
      },
      "outputs": [],
      "source": [
        "# split dataset into train and test sets\n",
        "from sklearn import model_selection\n",
        "import random\n",
        "\n",
        "random.seed(10)\n",
        "\n",
        "# Store the inputs in the matrix X and the outputs in the array y\n",
        "X = data.iloc[:,0:4]\n",
        "print(X.describe())\n",
        "\n",
        "y = data.iloc[:,4]\n",
        "print(\"\\n\",y.value_counts(),\"\\n\")\n",
        "\n",
        "target_names = list(set(y))\n",
        "\n",
        "train_x, test_x, train_y, test_y = model_selection.train_test_split(X, y, train_size=0.8, stratify=y)\n",
        "\n",
        "# Verifying dataset dimensions\n",
        "print('The training dataset (inputs) dimensions are: ', train_x.shape)\n",
        "print('The training dataset (outputs) dimensions are: ', train_y.shape)\n",
        "print('The testing dataset (inputs) dimensions are: ', test_x.shape)\n",
        "print('The testing dataset (outputs) dimensions are: ', test_y.shape)"
      ]
    },
    {
      "cell_type": "code",
      "execution_count": null,
      "metadata": {
        "id": "w3DG7v1bMEb1"
      },
      "outputs": [],
      "source": [
        "# Classification report on training set\n",
        "from sklearn.neighbors import NearestCentroid\n",
        "import numpy as np\n",
        "\n",
        "clf = NearestCentroid()\n",
        "clf.fit(train_x, train_y)\n",
        "\n",
        "tmpdata = train_x\n",
        "tmpdata['Species']=train_y\n",
        "ax = sns.scatterplot(data=tmpdata, x='Petal Width', y='Petal Length', hue='Species', style='Species')\n",
        "\n",
        "ax.plot(clf.centroids_[0,3], clf.centroids_[0,2], marker=\"*\", color=\"r\", markersize=10)\n",
        "ax.plot(clf.centroids_[1,3], clf.centroids_[1,2], marker=\"*\", color=\"r\", markersize=10)\n",
        "ax.plot(clf.centroids_[2,3], clf.centroids_[2,2], marker=\"*\", color=\"r\", markersize=10)\n",
        "ax.plot(clf.centroids_[0,3], clf.centroids_[0,2],'o',ms=110,mec='r',mfc='none')\n",
        "ax.plot(clf.centroids_[1,3], clf.centroids_[1,2],'o',ms=110,mec='r',mfc='none')\n",
        "ax.plot(clf.centroids_[2,3], clf.centroids_[2,2],'o',ms=110,mec='r',mfc='none')\n",
        "\n",
        "plt.title(\"Iris - Training Data\")\n",
        "plt.savefig(\"iris-train-knn.pdf\")"
      ]
    },
    {
      "cell_type": "code",
      "source": [
        "# Classification report on training set\n",
        "from sklearn.metrics import classification_report\n",
        "\n",
        "predicted = clf.predict(train_x.iloc[:,0:4])\n",
        "print(classification_report(train_y, predicted, target_names=target_names))"
      ],
      "metadata": {
        "id": "790opR_ZJZnw"
      },
      "execution_count": null,
      "outputs": []
    },
    {
      "cell_type": "code",
      "source": [
        "# Showing the performance on testing set\n",
        "tmpdata = test_x\n",
        "tmpdata['Species']=test_y\n",
        "\n",
        "# Plotting the training set\n",
        "ax = sns.scatterplot(data=tmpdata, x='Petal Width', y='Petal Length', hue='Species', style='Species')\n",
        "ax.plot(clf.centroids_[0,3], clf.centroids_[0,2], marker=\"*\", color=\"r\", markersize=10)\n",
        "ax.plot(clf.centroids_[1,3], clf.centroids_[1,2], marker=\"*\", color=\"r\", markersize=10)\n",
        "ax.plot(clf.centroids_[2,3], clf.centroids_[2,2], marker=\"*\", color=\"r\", markersize=10)\n",
        "ax.plot(clf.centroids_[0,3], clf.centroids_[0,2],'o',ms=110,mec='r',mfc='none')\n",
        "ax.plot(clf.centroids_[1,3], clf.centroids_[1,2],'o',ms=110,mec='r',mfc='none')\n",
        "ax.plot(clf.centroids_[2,3], clf.centroids_[2,2],'o',ms=110,mec='r',mfc='none')\n",
        "\n",
        "plt.title(\"Iris - Test Data\")\n",
        "plt.savefig(\"iris-test-knn.pdf\")"
      ],
      "metadata": {
        "id": "fjvKlO_SpPT7"
      },
      "execution_count": null,
      "outputs": []
    },
    {
      "cell_type": "code",
      "execution_count": null,
      "metadata": {
        "id": "TSKGxaAETqYM"
      },
      "outputs": [],
      "source": [
        "# Showing the performance on testing set\n",
        "from sklearn.metrics import classification_report\n",
        "\n",
        "predicted = clf.predict(test_x.iloc[:,0:4])\n",
        "print(classification_report(test_y, predicted, target_names=target_names))"
      ]
    }
  ],
  "metadata": {
    "colab": {
      "provenance": []
    },
    "kernelspec": {
      "display_name": "Python 3",
      "name": "python3"
    },
    "language_info": {
      "name": "python"
    }
  },
  "nbformat": 4,
  "nbformat_minor": 0
}